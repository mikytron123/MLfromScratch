{
 "cells": [
  {
   "cell_type": "code",
   "execution_count": 1,
   "metadata": {},
   "outputs": [],
   "source": [
    "#Importing Libraries\n",
    "import numpy as np\n",
    "import pandas as pd\n",
    "import scipy.io as scp"
   ]
  },
  {
   "cell_type": "code",
   "execution_count": 12,
   "metadata": {},
   "outputs": [],
   "source": [
    "# Performs PCA and returns projected matrix into k dimensions\n",
    "def pca(X,k):\n",
    "    \"\"\" PCA dimensionality Reduction\n",
    "    Args:\n",
    "        X(numpy matrix): Design matrix\n",
    "        K(int): number of principal components\n",
    "    \n",
    "    Returns:\n",
    "        (Z,U): Tuple of new Design matrix and Unitary matrix from SVD\n",
    "    \n",
    "    \"\"\"\n",
    "    \n",
    "    m = X.shape[0]\n",
    "    sigma = (1/m)*X.T*X\n",
    "    U,S,V = np.linalg.svd(sigma)\n",
    "    S = np.diag(S)\n",
    "    U_reduce = U[:,0:k];\n",
    "    Z = X*U_reduce\n",
    "    return (Z,U)"
   ]
  },
  {
   "cell_type": "code",
   "execution_count": 4,
   "metadata": {},
   "outputs": [],
   "source": [
    "# Normalize Design matrix\n",
    "def featureNormalize(X):\n",
    "    X_norm = (X - X.mean(0))/X.std(0)\n",
    "    return X_norm\n"
   ]
  },
  {
   "cell_type": "code",
   "execution_count": 3,
   "metadata": {},
   "outputs": [],
   "source": [
    "# Recover data from PCA\n",
    "def recoverdata(Z,U,k):\n",
    "    \"\"\"Recovers Data after PCA\n",
    "    \n",
    "    Args:\n",
    "        Z(Numpy matrix): Transformed design matrix\n",
    "        U(Numpy matrix): Unitary Matrix from SVD\n",
    "        k(int): number of principal components\n",
    "    \n",
    "    Returns:\n",
    "        X_rec: Recovered Design matrix\n",
    "        \n",
    "    \"\"\"\n",
    "    U_reduce = U[:,0:k]\n",
    "    X_rec = Z*U_reduce.T\n",
    "    return X_rec\n"
   ]
  },
  {
   "cell_type": "code",
   "execution_count": 2,
   "metadata": {},
   "outputs": [],
   "source": [
    "data = np.random.randint(5, size=(3,4))\n",
    "data = np.array(data)"
   ]
  },
  {
   "cell_type": "code",
   "execution_count": 4,
   "metadata": {},
   "outputs": [],
   "source": [
    "y = np.random.randint(5, size=(3,1))\n",
    "y = np.array(y)"
   ]
  },
  {
   "cell_type": "code",
   "execution_count": 2,
   "metadata": {},
   "outputs": [],
   "source": [
    "#Partial Least Squares algorithm\n",
    "def pls(X,y,k):\n",
    "    n = X.shape[1]\n",
    "    \n",
    "    ym = np.zeros(X.shape)\n",
    "    ym[:,[0]] = y\n",
    "    \n",
    "    Xm = np.matrix(np.zeros((X.shape[0],n*n)))\n",
    "    Xm[:,0:n] = X\n",
    "    \n",
    "    zm = np.matrix(np.zeros((X.shape[0],n)))\n",
    "    thetam = np.matrix(np.zeros((n,1)))\n",
    "    \n",
    "    for m in range(1,k+1):\n",
    "        prev1 = (m-1)*n\n",
    "        prev2 = m*n\n",
    "        next2 = (m+1)*n\n",
    "        last = m - 1\n",
    "        W = Xm[:,prev1:prev2].T*y\n",
    "        \n",
    "        zm[:,[m]] = Xm[:,prev1:prev2]*W\n",
    "        \n",
    "        thetam[m] = (zm[:,[m]].T*y)/(zm[:,[m]].T*zm[:,[m]])\n",
    "        ym[:,[m]] = ym[:,[last]] + np.asscalar(thetam[m])*zm[:,m]\n",
    "        \n",
    "        Xm[:,prev2:next2] = Xm[:,prev1:prev2] - zm[:,m]*((zm[:,m].T*Xm[:,prev1:prev2])/(zm[:,m].T*zm[:,m]))\n",
    "    return (ym,zm,thetam)\n",
    "        \n",
    "        \n",
    "    \n",
    "    \n",
    "    "
   ]
  },
  {
   "cell_type": "code",
   "execution_count": 57,
   "metadata": {},
   "outputs": [
    {
     "name": "stdout",
     "output_type": "stream",
     "text": [
      "(3,)\n",
      "1\n",
      "(3,)\n",
      "(1, 1)\n",
      "(3, 1)\n",
      "2\n",
      "(3,)\n",
      "(1, 1)\n",
      "(3, 1)\n",
      "3\n",
      "(3,)\n",
      "(1, 1)\n",
      "(3, 1)\n"
     ]
    }
   ],
   "source": [
    "(ym,zm,thetam) = pls(data,y,3)"
   ]
  },
  {
   "cell_type": "code",
   "execution_count": 13,
   "metadata": {},
   "outputs": [],
   "source": [
    "mat = scp.loadmat(\"ex7data1.mat\")\n",
    "X = np.matrix(mat[\"X\"])\n",
    "X_norm = featureNormalize(X)\n",
    "(z,u) = pca(X_norm,1)"
   ]
  }
 ],
 "metadata": {
  "kernelspec": {
   "display_name": "Python [default]",
   "language": "python",
   "name": "python3"
  },
  "language_info": {
   "codemirror_mode": {
    "name": "ipython",
    "version": 3
   },
   "file_extension": ".py",
   "mimetype": "text/x-python",
   "name": "python",
   "nbconvert_exporter": "python",
   "pygments_lexer": "ipython3",
   "version": "3.5.4"
  }
 },
 "nbformat": 4,
 "nbformat_minor": 2
}
