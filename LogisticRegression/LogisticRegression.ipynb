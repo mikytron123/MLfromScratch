{
 "cells": [
  {
   "cell_type": "code",
   "execution_count": 1,
   "metadata": {},
   "outputs": [],
   "source": [
    "import numpy as np\n",
    "import pandas as pd"
   ]
  },
  {
   "cell_type": "code",
   "execution_count": 2,
   "metadata": {},
   "outputs": [],
   "source": [
    "# sigmoid function for numpy matrix\n",
    "def sigmoid(z):\n",
    "    return 1/(1+ np.exp(-z))\n"
   ]
  },
  {
   "cell_type": "code",
   "execution_count": 11,
   "metadata": {},
   "outputs": [],
   "source": [
    "# Cost and gradient of logistic regression with regularization\n",
    "def costFunction(theta, X, y,lambdaparam):\n",
    "\n",
    "    m = len(y)\n",
    "    grad = np.zeros(theta.shape)\n",
    "    \n",
    "    cost = np.asscalar(-y.T*np.log(sigmoid(X*theta)) - (np.ones((m,1)) - y).T*np.log(1-sigmoid(X* theta)))\n",
    "    #J = (1/m)*cost\n",
    "    theta2 = theta[1:]\n",
    "    regular = np.asscalar(theta2.T*theta2)\n",
    "    J = (1/m)*cost + (lambdaparam)/(2*m) * regular ;\n",
    "    grad = (X.T*(sigmoid(X*theta) - y))/m\n",
    "    grad[1:] = grad[1:] + (lambdaparam/m)*theta2  \n",
    "    \n",
    "    return (J,grad) "
   ]
  },
  {
   "cell_type": "code",
   "execution_count": 25,
   "metadata": {},
   "outputs": [],
   "source": [
    "# Predictions of logistic regression using 0.5 threshold\n",
    "def predict(theta, X):\n",
    "\n",
    "    m = X.shape[0]\n",
    "    p = np.matrix(np.zeros((m, 1)))\n",
    "    p[(sigmoid(X*theta) >= 0.5)] = 1\n",
    "    return p"
   ]
  },
  {
   "cell_type": "code",
   "execution_count": 15,
   "metadata": {},
   "outputs": [],
   "source": [
    "df = pd.read_csv('ex2data1.txt', sep=\",\", header=None, names=[\"X1\",\"X2\",\"y\"])\n",
    "\n",
    "X = np.matrix(df[[\"X1\",\"X2\"]])\n",
    "y = np.matrix(df[[\"y\"]])\n",
    "m = len(y)\n",
    "n = X.shape[1]\n",
    "X = np.concatenate((np.ones((m,1)),X),axis = 1)\n",
    "theta = np.matrix(np.zeros((n+1, 1)))\n",
    "theta2 = np.matrix([[-24],[ 0.2], [0.2]])"
   ]
  },
  {
   "cell_type": "code",
   "execution_count": null,
   "metadata": {},
   "outputs": [],
   "source": [
    "thet"
   ]
  },
  {
   "cell_type": "code",
   "execution_count": 22,
   "metadata": {},
   "outputs": [],
   "source": [
    "(cost, grad) = costFunction(theta2, X, y,2)"
   ]
  },
  {
   "cell_type": "code",
   "execution_count": 24,
   "metadata": {},
   "outputs": [
    {
     "data": {
      "text/plain": [
       "matrix([[0.04290299],\n",
       "        [2.57023412],\n",
       "        [2.65079737]])"
      ]
     },
     "execution_count": 24,
     "metadata": {},
     "output_type": "execute_result"
    }
   ],
   "source": [
    "grad"
   ]
  },
  {
   "cell_type": "code",
   "execution_count": null,
   "metadata": {},
   "outputs": [],
   "source": []
  }
 ],
 "metadata": {
  "kernelspec": {
   "display_name": "Python [default]",
   "language": "python",
   "name": "python3"
  },
  "language_info": {
   "codemirror_mode": {
    "name": "ipython",
    "version": 3
   },
   "file_extension": ".py",
   "mimetype": "text/x-python",
   "name": "python",
   "nbconvert_exporter": "python",
   "pygments_lexer": "ipython3",
   "version": "3.5.4"
  }
 },
 "nbformat": 4,
 "nbformat_minor": 2
}
