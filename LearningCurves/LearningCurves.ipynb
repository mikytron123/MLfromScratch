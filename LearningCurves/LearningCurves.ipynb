{
 "cells": [
  {
   "cell_type": "code",
   "execution_count": 24,
   "metadata": {},
   "outputs": [],
   "source": [
    "import pandas as pd\n",
    "import numpy as np\n",
    "import scipy.io as scp\n",
    "from sklearn.preprocessing import PolynomialFeatures\n",
    "from sklearn import linear_model \n",
    "import matplotlib.pyplot as plt\n",
    "import seaborn as sns\n",
    "sns.set()"
   ]
  },
  {
   "cell_type": "code",
   "execution_count": 78,
   "metadata": {},
   "outputs": [],
   "source": [
    "#Computes cost and gradient for linear regression with regularization and squared error loss\n",
    "def linearRegCostFunction(X, y, theta, lambdaparam):\n",
    "\n",
    "    m = len(y) \n",
    "    if(theta.shape[0]<=theta.shape[1]):\n",
    "        theta = theta.T\n",
    "    grad = np.zeros((theta.shape))\n",
    "    X = np.matrix(X)\n",
    "    y = np.matrix(y)\n",
    "    \n",
    "    hypothesis = X*theta\n",
    "    mse = np.trace((hypothesis - y).T*(hypothesis - y))\n",
    "    newtheta = np.asscalar(theta[1:].T*theta[1:])\n",
    "    J = (1/(2*m))*mse + (lambdaparam/(2*m))*newtheta\n",
    "    gradmse = X.T*(hypothesis - y)\n",
    "    left = (lambdaparam/m)*theta[1:]\n",
    "    left = np.concatenate(([[0]],left))\n",
    "    grad = (1/m)*gradmse + left\n",
    "    return (J,grad)"
   ]
  },
  {
   "cell_type": "code",
   "execution_count": 95,
   "metadata": {},
   "outputs": [],
   "source": [
    "def learningCurve(X, y, Xval, yval, lambdaparam,reg):\n",
    "    \n",
    "    (m,n) = X.shape\n",
    "\n",
    "    error_train = np.zeros((m, 1))\n",
    "    error_val   = np.zeros((m, 1))\n",
    "    if lambdaparam == 0:\n",
    "        reg = linear_model.LinearRegression()\n",
    "    for i in range(1,m+1):\n",
    "        reg.fit(X[0:i, :],y[0:i])\n",
    "        theta = reg.coef_\n",
    "        (J,grad) = linearRegCostFunction(X[0:i, :], y[0:i],theta,0)\n",
    "        error_train[i-1] = J\n",
    "        (J,grad) = linearRegCostFunction(Xval, yval,theta,0)\n",
    "        error_val[i-1] = J\n",
    "        \n",
    "    return (error_train,error_val)\n"
   ]
  },
  {
   "cell_type": "code",
   "execution_count": 7,
   "metadata": {},
   "outputs": [],
   "source": [
    "def polyFeatures(X, p):\n",
    "    poly = PolynomialFeatures(p)\n",
    "    return poly.fit_transform(X)\n",
    "    "
   ]
  },
  {
   "cell_type": "code",
   "execution_count": 60,
   "metadata": {},
   "outputs": [],
   "source": [
    "def validationCurve(X, y, Xval, yval,lambdavec):\n",
    "\n",
    "    lamda_vec_len = len(lambda_vec)\n",
    "    error_train = np.zeros((lamda_vec_len, 1))\n",
    "    error_val = np.zeros((lamda_vec_len, 1))\n",
    "\n",
    "    for i in range(0,lamda_vec_len):\n",
    "        \n",
    "        lambdaparam = lambda_vec[i]\n",
    "        reg = linear_model.Ridge(alpha = lambdaparam)\n",
    "        reg.fit(X,y)\n",
    "        theta = reg.coef_\n",
    "        (J,grad) = linearRegCostFunction(X, y,theta,0)\n",
    "        error_train[i] = J\n",
    "        (J,grad) = linearRegCostFunction(Xval, yval,theta,0)\n",
    "        error_val[i] = J\n",
    "\n",
    "    return (lambda_vec, error_train, error_val)"
   ]
  },
  {
   "cell_type": "code",
   "execution_count": 91,
   "metadata": {},
   "outputs": [],
   "source": [
    "df = scp.loadmat(\"ex5data1.mat\")\n",
    "X = df[\"X\"]\n",
    "Xtest = df[\"Xtest\"]\n",
    "Xval = df[\"Xval\"]\n",
    "y = df[\"y\"]\n",
    "ytest = df[\"ytest\"]\n",
    "yval = df[\"yval\"]\n",
    "(m,n) = X.shape\n",
    "\n",
    "X = np.concatenate((np.ones((m,1)),X),axis = 1)\n",
    "Xval = np.concatenate((np.ones((Xval.shape[0],1)),Xval),axis = 1)\n"
   ]
  },
  {
   "cell_type": "code",
   "execution_count": 88,
   "metadata": {},
   "outputs": [
    {
     "name": "stdout",
     "output_type": "stream",
     "text": [
      "2.2776406695683273\n",
      "164.11579386415292\n",
      "5.422568831011412\n",
      "148.3891756272939\n",
      "103.46846480877134\n",
      "159.62590083949001\n",
      "109.77772787469641\n",
      "164.62870119656827\n",
      "161.3108116051052\n",
      "142.44954316498098\n",
      "138.09868053574766\n",
      "143.64381132104552\n",
      "121.8690287793972\n",
      "140.5539585253474\n",
      "125.09535625511786\n",
      "138.70996413185952\n",
      "111.00932557676886\n",
      "137.4524432993414\n",
      "119.22345070289748\n",
      "133.79746320524396\n",
      "108.00335907478869\n",
      "132.62142588293975\n",
      "108.02051565001848\n",
      "132.95768026028117\n"
     ]
    },
    {
     "data": {
      "image/png": "[encoded data removed]",
      "text/plain": [
       "<Figure size 432x288 with 1 Axes>"
      ]
     },
     "metadata": {},
     "output_type": "display_data"
    }
   ],
   "source": [
    "lambdaparam = 0\n",
    "reg = linear_model.Ridge(alpha = lambdaparam)\n",
    "(error_train, error_val) = learningCurve(X, y, Xval, yval,lambdaparam,reg)\n",
    "#df = pd.DataFrame({\"error_train\":error_train.T[0],\"error_val\":error_val.T[0]})\n",
    "m = error_train.shape[0]\n",
    "\n",
    "x = np.linspace(0,m,m)\n",
    "\n",
    "plt.plot(x, error_train, 'b') # plotting t, a separately \n",
    "plt.plot(x, error_val, 'r') # plotting t, b separately\n",
    "plt.legend([\"Train\",\"Cross-Val\"])\n",
    "plt.show()\n",
    "\n"
   ]
  },
  {
   "cell_type": "code",
   "execution_count": null,
   "metadata": {},
   "outputs": [],
   "source": []
  }
 ],
 "metadata": {
  "kernelspec": {
   "display_name": "Python [default]",
   "language": "python",
   "name": "python3"
  },
  "language_info": {
   "codemirror_mode": {
    "name": "ipython",
    "version": 3
   },
   "file_extension": ".py",
   "mimetype": "text/x-python",
   "name": "python",
   "nbconvert_exporter": "python",
   "pygments_lexer": "ipython3",
   "version": "3.5.4"
  }
 },
 "nbformat": 4,
 "nbformat_minor": 2
}
