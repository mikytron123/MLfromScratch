{
 "cells": [
  {
   "cell_type": "code",
   "execution_count": 1,
   "metadata": {},
   "outputs": [],
   "source": [
    "import numpy as np\n",
    "import pandas as pd\n"
   ]
  },
  {
   "cell_type": "code",
   "execution_count": 5,
   "metadata": {},
   "outputs": [],
   "source": [
    "#Read data into DataFrame\n",
    "df = pd.read_csv('ex1data1.txt', sep=\",\", header=None, names=[\"X\", \"y\"])\n",
    "\n",
    "X = np.matrix(df[[\"X\"]])\n",
    "y = np.matrix(df[[\"y\"]])\n",
    "m = len(y)\n",
    "X = np.concatenate((np.ones((m,1)),X),axis = 1)\n",
    "theta = np.matrix(np.zeros((2, 1)))"
   ]
  },
  {
   "cell_type": "code",
   "execution_count": 2,
   "metadata": {},
   "outputs": [],
   "source": [
    "#Computes cost and gradient for linear regression with regularization and squared error loss\n",
    "def linearRegCostFunction(X, y, theta, lambdaparam):\n",
    "\n",
    "    m = len(y) \n",
    "    grad = np.zeros((theta.shape))\n",
    "\n",
    "    hypothesis = X*theta;\n",
    "    mse = np.trace((hypothesis - y).T*(hypothesis - y))\n",
    "    newtheta = np.asscalar(theta[1:].T*theta[1:])\n",
    "    J = (1/(2*m))*mse + (lambdaparam/(2*m))*newtheta\n",
    "    gradmse = X.T*(hypothesis - y)\n",
    "    left = (lambdaparam/m)*theta[1:end]\n",
    "    left = np.concatenate(([0],left))\n",
    "    grad = (1/m)*gradmse + left\n",
    "    return (J,grad)\n",
    "    "
   ]
  },
  {
   "cell_type": "code",
   "execution_count": 3,
   "metadata": {},
   "outputs": [],
   "source": [
    "# Gradient descent update for linear regression \n",
    "def gradientDescent(X, y, theta, alpha, num_iters,lambdaparam):\n",
    "    m = len(y) \n",
    "    for iter in range(0,num_iters):\n",
    "        (J,grad) = linearRegCostFunction(X,y,theta,lambdaparam)\n",
    "        theta = theta - alpha*(1/m)*grad\n",
    "    return theta"
   ]
  },
  {
   "cell_type": "code",
   "execution_count": null,
   "metadata": {},
   "outputs": [],
   "source": [
    "alpha = 0.01\n",
    "iterations = 1500\n",
    "thetatrain = gradientDescent(X, y, theta, alpha, iterations)\n",
    "thetatrain\n"
   ]
  },
  {
   "cell_type": "code",
   "execution_count": null,
   "metadata": {},
   "outputs": [],
   "source": [
    "df2 = pd.read_csv('ex1data2.txt', sep=\",\", header=None, names=[\"X1\",\"X2\",\"y\"])\n",
    "\n",
    "X = np.matrix(df2[[\"X1\",\"X2\"]])\n",
    "y = np.matrix(df2[[\"y\"]])\n",
    "m = len(y)\n"
   ]
  },
  {
   "cell_type": "code",
   "execution_count": null,
   "metadata": {},
   "outputs": [],
   "source": [
    "# Normalize Design matrix\n",
    "def featureNormalize(X):\n",
    "    X_norm = (X - X.mean(0))/X.std(0)\n",
    "    return X_norm\n"
   ]
  },
  {
   "cell_type": "code",
   "execution_count": null,
   "metadata": {},
   "outputs": [],
   "source": [
    "def normalEqn(X, y):\n",
    "    theta = np.linalg.inv(X.T*X)*X.T*y\n",
    "    return theta"
   ]
  },
  {
   "cell_type": "code",
   "execution_count": null,
   "metadata": {},
   "outputs": [],
   "source": [
    "X_norm = featureNormalize(X)\n",
    "X_norm = np.concatenate((np.ones((m,1)),X_norm),axis = 1)\n"
   ]
  },
  {
   "cell_type": "code",
   "execution_count": null,
   "metadata": {},
   "outputs": [],
   "source": [
    "alpha = 0.01\n",
    "num_iters = 400\n",
    "theta = np.matrix(np.zeros((3, 1)))\n",
    "thetatrain = gradientDescent(X_norm, y, theta, alpha, iterations)\n",
    "thetatrain"
   ]
  },
  {
   "cell_type": "code",
   "execution_count": null,
   "metadata": {},
   "outputs": [],
   "source": [
    "X = np.concatenate((np.ones((m,1)),X),axis = 1)\n",
    "thetanorm = normalEqn(X,y)\n",
    "thetanorm"
   ]
  },
  {
   "cell_type": "code",
   "execution_count": null,
   "metadata": {},
   "outputs": [],
   "source": []
  }
 ],
 "metadata": {
  "kernelspec": {
   "display_name": "Python [default]",
   "language": "python",
   "name": "python3"
  },
  "language_info": {
   "codemirror_mode": {
    "name": "ipython",
    "version": 3
   },
   "file_extension": ".py",
   "mimetype": "text/x-python",
   "name": "python",
   "nbconvert_exporter": "python",
   "pygments_lexer": "ipython3",
   "version": "3.5.4"
  }
 },
 "nbformat": 4,
 "nbformat_minor": 2
}
