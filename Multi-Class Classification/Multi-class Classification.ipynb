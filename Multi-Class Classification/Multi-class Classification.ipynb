{
 "cells": [
  {
   "cell_type": "code",
   "execution_count": 3,
   "metadata": {},
   "outputs": [],
   "source": [
    "import numpy as np\n",
    "import pandas as pd\n",
    "import scipy.io as scp"
   ]
  },
  {
   "cell_type": "code",
   "execution_count": 4,
   "metadata": {},
   "outputs": [],
   "source": [
    "def sigmoid(z):\n",
    "    return 1/(1+ np.exp(-z))"
   ]
  },
  {
   "cell_type": "code",
   "execution_count": 5,
   "metadata": {},
   "outputs": [],
   "source": [
    "# Cost and gradient of logistic regression with regularization\n",
    "def costFunction(theta, X, y,lambdaparam):\n",
    "\n",
    "    m = len(y)\n",
    "    grad = np.zeros(theta.shape)\n",
    "    \n",
    "    cost = np.asscalar(-y.T*np.log(sigmoid(X*theta)) - (np.ones((m,1)) - y).T*np.log(1-sigmoid(X* theta)))\n",
    "    #J = (1/m)*cost\n",
    "    theta2 = theta[1:]\n",
    "    regular = np.asscalar(theta2.T*theta2)\n",
    "    J = (1/m)*cost + (lambdaparam)/(2*m) * regular ;\n",
    "    grad = (X.T*(sigmoid(X*theta) - y))/m\n",
    "    grad[1:] = grad[1:] + (lambdaparam/m)*theta2  \n",
    "    \n",
    "    return (J,grad)"
   ]
  },
  {
   "cell_type": "code",
   "execution_count": 6,
   "metadata": {},
   "outputs": [],
   "source": [
    "def gradientDescent(X,y,theta,num_iter,alpha,lambdaparam):\n",
    "    for i in range(0,num_iter):\n",
    "        (cost,grad) = costFunction(theta,X,y,lambdaparam)\n",
    "        theta = theta - alpha*grad\n",
    "    return theta"
   ]
  },
  {
   "cell_type": "code",
   "execution_count": 34,
   "metadata": {},
   "outputs": [],
   "source": [
    "def oneVsAll(X, y, num_labels, lambdaparam):\n",
    "    m = X.shape[0]\n",
    "    n = X.shape[1]\n",
    "     \n",
    "    all_theta = np.matrix(np.zeros((num_labels, n + 1)))\n",
    "\n",
    "    X = np.matrix(np.concatenate((np.ones((m, 1)), X),axis = 1))\n",
    "\n",
    "\n",
    "    initial_theta = np.matrix(np.zeros((n + 1, 1)))\n",
    "    num_iters = 9000\n",
    "    alpha = 0.1\n",
    "    \n",
    "    for c in range(0,num_labels):\n",
    "        ynew = (y == c).astype(int)\n",
    "        optheta = gradientDescent(X, ynew,initial_theta,num_iters,alpha,lambdaparam)\n",
    "        all_theta[c,:] = optheta.T        \n",
    "    return all_theta"
   ]
  },
  {
   "cell_type": "code",
   "execution_count": 8,
   "metadata": {},
   "outputs": [],
   "source": [
    "def predictOneVsAll(all_theta, X):\n",
    "\n",
    "    m = X.shape[0]\n",
    "    num_labels = all_theta.shape[0]\n",
    "    all_theta = np.matrix(all_theta)\n",
    "    p = np.zeros((m, 1))\n",
    "    X = np.matrix(np.concatenate((np.ones((m, 1)), X),axis = 1))\n",
    "\n",
    "    hypothesis = sigmoid(X*all_theta.T)\n",
    "    p = np.matrix(np.argmax(hypothesis,axis = 1))\n",
    "    return p\n"
   ]
  },
  {
   "cell_type": "code",
   "execution_count": 17,
   "metadata": {},
   "outputs": [],
   "source": [
    "import scipy.io\n",
    "mat = scp.loadmat('ex3data1.mat')\n",
    "X = np.matrix(mat['X'])\n",
    "y = np.matrix(mat['y'])"
   ]
  },
  {
   "cell_type": "code",
   "execution_count": 16,
   "metadata": {},
   "outputs": [
    {
     "data": {
      "text/plain": [
       "array([[0., 0., 0., ..., 0., 0., 0.],\n",
       "       [0., 0., 0., ..., 0., 0., 0.],\n",
       "       [0., 0., 0., ..., 0., 0., 0.],\n",
       "       ...,\n",
       "       [0., 0., 0., ..., 0., 0., 0.],\n",
       "       [0., 0., 0., ..., 0., 0., 0.],\n",
       "       [0., 0., 0., ..., 0., 0., 0.]])"
      ]
     },
     "execution_count": 16,
     "metadata": {},
     "output_type": "execute_result"
    }
   ],
   "source": [
    "X"
   ]
  },
  {
   "cell_type": "code",
   "execution_count": 11,
   "metadata": {},
   "outputs": [],
   "source": [
    "theta_t = np.matrix([[-2], [-1], [1], [2]])\n",
    "X_t = np.matrix([[1,0.1,0.6,1.1],\n",
    "[1,0.2,0.7,1.2],\n",
    "[1,0.3,0.8,1.3],\n",
    "[1,0.4,0.9,1.4],\n",
    "[1,0.5,1,1.5]])\n",
    "y_t = np.matrix([[1],[0],[1],[0],[1]])\n",
    "lambda_t = 3"
   ]
  },
  {
   "cell_type": "code",
   "execution_count": 12,
   "metadata": {},
   "outputs": [],
   "source": [
    "(J,grad) = costFunction(theta_t, X_t, y_t, lambda_t)"
   ]
  },
  {
   "cell_type": "code",
   "execution_count": 21,
   "metadata": {},
   "outputs": [
    {
     "data": {
      "text/plain": [
       "matrix([[10],\n",
       "        [10],\n",
       "        [10],\n",
       "        ...,\n",
       "        [ 9],\n",
       "        [ 9],\n",
       "        [ 9]], dtype=uint8)"
      ]
     },
     "execution_count": 21,
     "metadata": {},
     "output_type": "execute_result"
    }
   ],
   "source": [
    "y"
   ]
  },
  {
   "cell_type": "code",
   "execution_count": 35,
   "metadata": {},
   "outputs": [],
   "source": [
    "lambdaparam = 0.1\n",
    "num_labels = 10\n",
    "all_theta = oneVsAll(X, y, num_labels, lambdaparam)\n"
   ]
  },
  {
   "cell_type": "code",
   "execution_count": 36,
   "metadata": {},
   "outputs": [
    {
     "data": {
      "text/plain": [
       "matrix([[5],\n",
       "        [5],\n",
       "        [8],\n",
       "        ...,\n",
       "        [9],\n",
       "        [9],\n",
       "        [7]], dtype=int64)"
      ]
     },
     "execution_count": 36,
     "metadata": {},
     "output_type": "execute_result"
    }
   ],
   "source": [
    "pred = predictOneVsAll(all_theta, X)\n",
    "pred"
   ]
  },
  {
   "cell_type": "code",
   "execution_count": 26,
   "metadata": {},
   "outputs": [
    {
     "data": {
      "text/plain": [
       "matrix([[ 6],\n",
       "        [ 6],\n",
       "        [ 9],\n",
       "        ...,\n",
       "        [10],\n",
       "        [10],\n",
       "        [ 8]], dtype=int64)"
      ]
     },
     "execution_count": 26,
     "metadata": {},
     "output_type": "execute_result"
    }
   ],
   "source": [
    "pred2 = pred + 1\n",
    "pred2"
   ]
  },
  {
   "cell_type": "code",
   "execution_count": 40,
   "metadata": {},
   "outputs": [
    {
     "data": {
      "text/plain": [
       "5000"
      ]
     },
     "execution_count": 40,
     "metadata": {},
     "output_type": "execute_result"
    }
   ],
   "source": [
    "pred == 0\n",
    "np.size(pred == 0) - np.count_nonzero(pred == 0)"
   ]
  },
  {
   "cell_type": "code",
   "execution_count": 37,
   "metadata": {},
   "outputs": [
    {
     "name": "stdout",
     "output_type": "stream",
     "text": [
      "0.8332\n"
     ]
    }
   ],
   "source": [
    "print(np.mean(pred == y))"
   ]
  }
 ],
 "metadata": {
  "kernelspec": {
   "display_name": "Python [default]",
   "language": "python",
   "name": "python3"
  },
  "language_info": {
   "codemirror_mode": {
    "name": "ipython",
    "version": 3
   },
   "file_extension": ".py",
   "mimetype": "text/x-python",
   "name": "python",
   "nbconvert_exporter": "python",
   "pygments_lexer": "ipython3",
   "version": "3.5.4"
  }
 },
 "nbformat": 4,
 "nbformat_minor": 2
}
